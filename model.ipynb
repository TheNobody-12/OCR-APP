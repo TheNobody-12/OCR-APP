{
 "cells": [
  {
   "cell_type": "code",
   "execution_count": 18,
   "metadata": {},
   "outputs": [],
   "source": [
    "import os\n",
    "import sys\n",
    "import requests\n",
    "%matplotlib inline\n",
    "import matplotlib.pyplot as plt\n",
    "from PIL import Image\n",
    "from io import BytesIO"
   ]
  },
  {
   "cell_type": "code",
   "execution_count": 21,
   "metadata": {},
   "outputs": [],
   "source": [
    "# add subspcription key and endpoint\n",
    "subscription_key = \"9fed6e540fbe4dd3ae8af78fc126d6bd\"\n",
    "endpoint = \"https://ocrweb.cognitiveservices.azure.com/\"\n",
    "# connect to the endpoint\n",
    "ocr_url = endpoint + \"vision/v2.1/ocr\""
   ]
  },
  {
   "cell_type": "markdown",
   "metadata": {},
   "source": [
    "OCR On Image Retrieval"
   ]
  },
  {
   "cell_type": "code",
   "execution_count": 22,
   "metadata": {},
   "outputs": [
    {
     "ename": "HTTPError",
     "evalue": "401 Client Error: PermissionDenied for url: https://ocrweb.cognitiveservices.azure.com/vision/v2.1/ocr?language=unk&detectOrientation=true",
     "output_type": "error",
     "traceback": [
      "\u001b[1;31m---------------------------------------------------------------------------\u001b[0m",
      "\u001b[1;31mHTTPError\u001b[0m                                 Traceback (most recent call last)",
      "\u001b[1;32mf:\\IMP DOCUMENT\\projects\\OCR APP\\model.ipynb Cell 4\u001b[0m in \u001b[0;36m<cell line: 6>\u001b[1;34m()\u001b[0m\n\u001b[0;32m      <a href='vscode-notebook-cell:/f%3A/IMP%20DOCUMENT/projects/OCR%20APP/model.ipynb#W4sZmlsZQ%3D%3D?line=3'>4</a>\u001b[0m data \u001b[39m=\u001b[39m {\u001b[39m'\u001b[39m\u001b[39murl\u001b[39m\u001b[39m'\u001b[39m: img_url}\n\u001b[0;32m      <a href='vscode-notebook-cell:/f%3A/IMP%20DOCUMENT/projects/OCR%20APP/model.ipynb#W4sZmlsZQ%3D%3D?line=4'>5</a>\u001b[0m response \u001b[39m=\u001b[39m requests\u001b[39m.\u001b[39mpost(ocr_url, headers\u001b[39m=\u001b[39mheaders, params\u001b[39m=\u001b[39mparams, json\u001b[39m=\u001b[39mdata)\n\u001b[1;32m----> <a href='vscode-notebook-cell:/f%3A/IMP%20DOCUMENT/projects/OCR%20APP/model.ipynb#W4sZmlsZQ%3D%3D?line=5'>6</a>\u001b[0m response\u001b[39m.\u001b[39;49mraise_for_status()\n\u001b[0;32m      <a href='vscode-notebook-cell:/f%3A/IMP%20DOCUMENT/projects/OCR%20APP/model.ipynb#W4sZmlsZQ%3D%3D?line=7'>8</a>\u001b[0m analysis \u001b[39m=\u001b[39m response\u001b[39m.\u001b[39mjson()\n",
      "File \u001b[1;32mc:\\Users\\LENOVO\\AppData\\Local\\Programs\\Python\\Python310\\lib\\site-packages\\requests\\models.py:940\u001b[0m, in \u001b[0;36mResponse.raise_for_status\u001b[1;34m(self)\u001b[0m\n\u001b[0;32m    937\u001b[0m     http_error_msg \u001b[39m=\u001b[39m \u001b[39mu\u001b[39m\u001b[39m'\u001b[39m\u001b[39m%s\u001b[39;00m\u001b[39m Server Error: \u001b[39m\u001b[39m%s\u001b[39;00m\u001b[39m for url: \u001b[39m\u001b[39m%s\u001b[39;00m\u001b[39m'\u001b[39m \u001b[39m%\u001b[39m (\u001b[39mself\u001b[39m\u001b[39m.\u001b[39mstatus_code, reason, \u001b[39mself\u001b[39m\u001b[39m.\u001b[39murl)\n\u001b[0;32m    939\u001b[0m \u001b[39mif\u001b[39;00m http_error_msg:\n\u001b[1;32m--> 940\u001b[0m     \u001b[39mraise\u001b[39;00m HTTPError(http_error_msg, response\u001b[39m=\u001b[39m\u001b[39mself\u001b[39m)\n",
      "\u001b[1;31mHTTPError\u001b[0m: 401 Client Error: PermissionDenied for url: https://ocrweb.cognitiveservices.azure.com/vision/v2.1/ocr?language=unk&detectOrientation=true"
     ]
    }
   ],
   "source": [
    "img_url = \"test.jpg\"\n",
    "headers = {'Ocp-Apim-Subscription-Key': subscription_key}\n",
    "params = {'language': 'unk', 'detectOrientation': 'true'}\n",
    "data = {'url': img_url}\n",
    "response = requests.post(ocr_url, headers=headers, params=params, json=data)\n",
    "response.raise_for_status()\n",
    "\n",
    "analysis = response.json()"
   ]
  },
  {
   "cell_type": "code",
   "execution_count": null,
   "metadata": {},
   "outputs": [],
   "source": []
  }
 ],
 "metadata": {
  "kernelspec": {
   "display_name": "Python 3.10.4 64-bit",
   "language": "python",
   "name": "python3"
  },
  "language_info": {
   "codemirror_mode": {
    "name": "ipython",
    "version": 3
   },
   "file_extension": ".py",
   "mimetype": "text/x-python",
   "name": "python",
   "nbconvert_exporter": "python",
   "pygments_lexer": "ipython3",
   "version": "3.10.4"
  },
  "orig_nbformat": 4,
  "vscode": {
   "interpreter": {
    "hash": "f2ccb58c476f33ba3e3aee7ac07234ef6b8217ef24ad64d2a7d4fed1a57c1cd2"
   }
  }
 },
 "nbformat": 4,
 "nbformat_minor": 2
}
